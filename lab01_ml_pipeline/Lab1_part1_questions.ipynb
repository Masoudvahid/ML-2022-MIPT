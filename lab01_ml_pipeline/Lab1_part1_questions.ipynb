{
 "cells": [
  {
   "cell_type": "markdown",
   "metadata": {},
   "source": [
    "*Credits: materials from this notebook belong to YSDA [Practical DL](https://github.com/yandexdataschool/Practical_DL) course. Special thanks for making them available online.*"
   ]
  },
  {
   "cell_type": "markdown",
   "metadata": {},
   "source": [
    "# Lab assignment №1, part 1\n",
    "\n",
    "This lab assignment consists of several parts. You are supposed to make some transformations, train some models, estimate the quality of the models and explain your results.\n",
    "\n",
    "Several comments:\n",
    "* Don't hesitate to ask questions, it's a good practice.\n",
    "* No private/public sharing, please. The copied assignments will be graded with 0 points.\n",
    "* Blocks of this lab will be graded separately."
   ]
  },
  {
   "cell_type": "markdown",
   "metadata": {},
   "source": [
    "## 1. Matrix differentiation"
   ]
  },
  {
   "cell_type": "markdown",
   "metadata": {},
   "source": [
    "Since it easy to google every task please please please try to undestand what's going on. The \"just answer\" thing will be not counted, make sure to present derivation of your solution. It is absolutely OK if you found an answer on web then just exercise in $\\LaTeX$ copying it into here."
   ]
  },
  {
   "cell_type": "markdown",
   "metadata": {},
   "source": [
    "Useful links: \n",
    "[1](http://www.machinelearning.ru/wiki/images/2/2a/Matrix-Gauss.pdf)\n",
    "[2](http://www.atmos.washington.edu/~dennis/MatrixCalculus.pdf)"
   ]
  },
  {
   "cell_type": "markdown",
   "metadata": {},
   "source": [
    "## ex. 1"
   ]
  },
  {
   "cell_type": "markdown",
   "metadata": {},
   "source": [
    "$$  \n",
    "y = x^Tx,  \\quad x \\in \\mathbb{R}^N \n",
    "$$"
   ]
  },
  {
   "cell_type": "markdown",
   "metadata": {
    "collapsed": true,
    "jupyter": {
     "outputs_hidden": true
    }
   },
   "source": [
    "We have\n",
    "$$\\frac{\\partial}{\\partial x_i}\\sum_{i=1}^nx_i^2=2x_i$$\n",
    "so\n",
    "$$\n",
    "\\frac{dy}{dx} = 2x\n",
    "$$ "
   ]
  },
  {
   "cell_type": "markdown",
   "metadata": {},
   "source": [
    "## ex. 2"
   ]
  },
  {
   "cell_type": "code",
   "execution_count": null,
   "metadata": {},
   "outputs": [],
   "source": []
  },
  {
   "cell_type": "markdown",
   "metadata": {},
   "source": [
    "$$ y = tr(AB) \\quad A,B \\in \\mathbb{R}^{N \\times N} $$ "
   ]
  },
  {
   "cell_type": "markdown",
   "metadata": {},
   "source": [
    "We have\n",
    "$$\\frac{\\partial}{\\partial a_{ij}}tr(AB)=\\frac{\\partial}{\\partial a_{ij}}\\left(\\sum_{j=1}^na_{1j}b_{j1}+\\dots+\\sum_{j=1}^na_{nj}b_{jn}\\right)=b_{ji}$$\n",
    "so\n",
    "$$\n",
    "\\frac{dy}{dA} =B^T\n",
    "$$"
   ]
  },
  {
   "cell_type": "markdown",
   "metadata": {},
   "source": [
    "## ex. 3"
   ]
  },
  {
   "cell_type": "markdown",
   "metadata": {},
   "source": [
    "$$  \n",
    "y = x^TAc , \\quad A\\in \\mathbb{R}^{N \\times N}, x\\in \\mathbb{R}^{N}, c\\in \\mathbb{R}^{N} \n",
    "$$"
   ]
  },
  {
   "cell_type": "markdown",
   "metadata": {},
   "source": [
    "Note that\n",
    "$$y = x^TAc = \\sum_{i=1}^nx_ia_{1i}c_1+\\dots+\\sum_{i=1}^nx_ia_{ni}c_n.$$\n",
    "\n",
    "Hence\n",
    "$$\\frac{\\partial}{\\partial x_i}y=a_{1i}c_1+\\dots+a_{ni}c_n$$\n",
    "\n",
    "and\n",
    "\n",
    "$$\n",
    "\\frac{dy}{dx} =A^Tc\n",
    "$$"
   ]
  },
  {
   "cell_type": "markdown",
   "metadata": {},
   "source": [
    "Also\n",
    "$$\\frac{\\partial}{\\partial a_{ij}}y=\\frac{\\partial}{\\partial a_{ij}}\\sum_{j=1}^nx_ja_{ij}c_i=x_jc_i$$\n",
    "and\n",
    "$$\n",
    "\\frac{dy}{dA} = c^Tx\n",
    "$$"
   ]
  },
  {
   "cell_type": "markdown",
   "metadata": {},
   "source": [
    "Hint for the latter (one of the ways): use *ex. 2* result and the fact \n",
    "$$\n",
    "tr(ABC) = tr (CAB)\n",
    "$$"
   ]
  },
  {
   "cell_type": "markdown",
   "metadata": {},
   "source": [
    "## ex. 4"
   ]
  },
  {
   "cell_type": "markdown",
   "metadata": {},
   "source": [
    "Classic matrix factorization example. Given matrix $X$ you need to find $A$, $S$ to approximate $X$. This can be done by simple gradient descent iteratively alternating $A$ and $S$ updates.\n",
    "$$\n",
    "J = || X - AS ||_F^2  , \\quad A\\in \\mathbb{R}^{N \\times R} , \\quad S\\in \\mathbb{R}^{R \\times M}\n",
    "$$\n",
    "$$\n",
    "\\frac{dJ}{dS} = ? \n",
    "$$\n",
    "\n",
    "You may use one of the following approaches:"
   ]
  },
  {
   "cell_type": "markdown",
   "metadata": {},
   "source": [
    "\n",
    "First note that if $X, Y\\in \\mathbb{R}^{m\\times n}$ then\n",
    "$$d\\langle X, Y\\rangle = d \\sum_{i=1}^m\\sum_{j=1}^n x_{ij} y_{ij} = \\sum_{i=1}^m\\sum_{j=1}^n ((dx_{ij}) y_{ij}+x_{ij} (dy_{ij})) = \\langle dX, Y\\rangle + \\langle X, dY\\rangle$$\n",
    "Using this result we get\n",
    "$$dJ=d\\langle X-AS, X-AS\\rangle=d(\\langle X, X\\rangle-2\\langle X, AS\\rangle+\\langle AS, AS\\rangle)=-2\\langle X, AdS\\rangle+2\\langle AS, AdS\\rangle=-2\\langle A^T(X-AS), dS\\rangle$$\n",
    "so\n",
    "$$\\frac{dJ}{dS}=-2A^T(X-AS).$$\n",
    "You may use one of the following approaches:"
   ]
  },
  {
   "cell_type": "markdown",
   "metadata": {},
   "source": [
    "#### First approach\n",
    "Using ex.2 and the fact:\n",
    "$$\n",
    "|| X ||_F^2 = tr(XX^T) \n",
    "$$ \n",
    "it is easy to derive gradients (you can find it in one of the refs). "
   ]
  },
  {
   "cell_type": "markdown",
   "metadata": {},
   "source": [
    "$$ ||( X - AS) ||_F^2 = tr((X - AS)(X - AS)^T) $$\n",
    "$$ = tr((X - AS)(X^T - (AS)^T)) $$\n",
    "usigng the properties of matrix transpose:\n",
    "$$ = tr((X - AS)(X^T - S^TA^T)) $$\n",
    "let's multipy the matrices\n",
    "$$ = tr(XX^T - XS^TA^T - ASX^T + ASS^TA^T) $$\n",
    "simplify \n",
    "$$ = tr(XX^T - 2ASX^T + ASS^TA^T) $$\n",
    "linearity property of matrix transpose\n",
    "$$ = tr(XX^T) - tr(2ASX^T) + tr(ASS^TA^T) $$\n",
    "\n",
    "so we get the following\n",
    "$$\n",
    "\\frac{d(Tr(XX^T))}{dS} = 0 \\ \\  ; \\ \\frac{d(Tr(XS^TA^T))}{dS} = A^TX \\ \\ ; \\ \\ \n",
    "\\frac{d(Tr(ASX^T))}{dS} = A^TX \n",
    "$$\n",
    "\n",
    "and we can have\n",
    "\n",
    "$$ \\Rightarrow \\frac{dJ}{dS} = -2\\frac{d(tr(ASX^T))}{dS} + \\frac{d(tr(ASS^TA^T))}{dS} $$  \n",
    "$$ \\frac{d(tr(ASX^T))}{dS} = A^TX $$\n",
    "\n",
    "$$ B = AS \\Rightarrow ASS^TA^T =BB^T$$\n",
    "$$ \\Rightarrow B_{ij} = \\sum_{k=1}^RA_{ik}S_{kj}$$\n",
    "\n",
    "$$ tr(BB^T) = \\sum_{i=1}^N\\sum_{j=1}^MB_{ij}^2 = \\sum_{i=1}^N\\sum_{j=1}^M(\\sum_{k=1}^RA_{ik}S_{kj})^2 $$\n",
    "\n",
    "$$ \\Rightarrow \\frac{d(tr(BB^T))}{dS_{tj}} = \\sum_{i=1}^N2(\\sum_{k=1}^RA_{ik}S_{kj})A_{it} $$\n",
    "$$\\Rightarrow \\frac{d(tr(BB^T))}{dS} = 2A^TB = 2A^TAS$$\n",
    "$$\\Rightarrow \\frac{dJ}{dS} = 2A^TAS - 2A^TX = 2(A^TAS - A^TX)$$"
   ]
  },
  {
   "cell_type": "markdown",
   "metadata": {},
   "source": [
    "#### Second approach\n",
    "You can use *slightly different techniques* if they suits you. Take a look at this derivation:\n",
    "<img src=\"grad.png\">\n",
    "(excerpt from [Handbook of blind source separation, Jutten, page 517](https://books.google.ru/books?id=PTbj03bYH6kC&printsec=frontcover&dq=Handbook+of+Blind+Source+Separation&hl=en&sa=X&ved=0ahUKEwi-q_apiJDLAhULvXIKHVXJDWcQ6AEIHDAA#v=onepage&q=Handbook%20of%20Blind%20Source%20Separation&f=false), open for better picture)."
   ]
  },
  {
   "cell_type": "markdown",
   "metadata": {},
   "source": [
    "#### Third approach\n",
    "And finally we can use chain rule! \n",
    "let $ F = AS $ \n",
    "\n",
    "**Find**\n",
    "$$\n",
    "\\frac{dJ}{dF} =  \n",
    "$$ \n",
    "\n",
    "$$ J = || X - AS ||_F^2 = || X - F ||_F^2 == tr((X - F)(X - F)^T) = tr((X - F)(X^T-F^T)$$\n",
    "$$ = tr(XX^T -FX^T - XF^T + FF^T) = tr(XX^T - 2FX^T + FF^T)$$\n",
    "so we can write the following\n",
    "$$\n",
    "\\frac{dJ}{dF} = -2 \\frac{d(tr(FX^T))}{dF} + \\frac{d(tr(FF^T))}{dF} = -2X + 2F\n",
    "$$ \n",
    "\n",
    "and \n",
    "$$\n",
    "\\frac{dF}{dS} = \\frac{d(AS)}{dS} = \\frac{d(S^TA^T)}{dS} = A^T\n",
    "$$ \n",
    "(the shape should be $ NM \\times RM )$.\n",
    "\n",
    "Now it is easy do get desired gradients:\n",
    "$$\n",
    "\\frac{dJ}{dS} =   \\frac{dJ}{dF}\\frac{dF}{dS} = (2F - 2X)A^T = 2(ASA^T - XA^T)\n",
    "$$ "
   ]
  },
  {
   "cell_type": "markdown",
   "metadata": {
    "collapsed": true,
    "jupyter": {
     "outputs_hidden": true
    }
   },
   "source": [
    "## 2. kNN questions\n",
    "Here come the questions from the assignment0_01. Please, refer to the assignment0_01 to get the context of the questions."
   ]
  },
  {
   "cell_type": "markdown",
   "metadata": {},
   "source": [
    "### Question 1\n",
    "\n",
    "Notice the structured patterns in the distance matrix, where some rows or columns are visible brighter. (Note that with the default color scheme black indicates low distances while white indicates high distances.)\n",
    "\n",
    "- What in the data is the cause behind the distinctly bright rows?\n",
    "- What causes the columns?\n",
    "\n",
    "*Your Answer:*\n",
    "The intensity levels of the photographs we are comparing are what determine which rows are brighter. It indicates a comparison between training images with low intensity values and a test image with very high intensity levels.\n",
    "- The same thing happens with the columns, except we are contrasting a training image with every test image instead.\n"
   ]
  },
  {
   "cell_type": "markdown",
   "metadata": {},
   "source": [
    "### Question 2\n",
    "\n",
    "We can also use other distance metrics such as L1 distance.\n",
    "For pixel values $p_{ij}^{(k)}$ at location $(i,j)$ of some image $I_k$, \n",
    "\n",
    "the mean $\\mu$ across all pixels over all images is $$\\mu=\\frac{1}{nhw}\\sum_{k=1}^n\\sum_{i=1}^{h}\\sum_{j=1}^{w}p_{ij}^{(k)}$$\n",
    "And the pixel-wise mean $\\mu_{ij}$ across all images is \n",
    "$$\\mu_{ij}=\\frac{1}{n}\\sum_{k=1}^np_{ij}^{(k)}.$$\n",
    "The general standard deviation $\\sigma$ and pixel-wise standard deviation $\\sigma_{ij}$ is defined similarly.\n",
    "\n",
    "Which of the following preprocessing steps will not change the performance of a Nearest Neighbor classifier that uses L1 distance? Select all that apply.\n",
    "1. Subtracting the mean $\\mu$ ($\\tilde{p}_{ij}^{(k)}=p_{ij}^{(k)}-\\mu$.)\n",
    "2. Subtracting the per pixel mean $\\mu_{ij}$  ($\\tilde{p}_{ij}^{(k)}=p_{ij}^{(k)}-\\mu_{ij}$.)\n",
    "3. Subtracting the mean $\\mu$ and dividing by the standard deviation $\\sigma$.\n",
    "4. Subtracting the pixel-wise mean $\\mu_{ij}$ and dividing by the pixel-wise standard deviation $\\sigma_{ij}$.\n",
    "5. Rotating the coordinate axes of the data.\n",
    "\n",
    "*Your Answer:* 1 - 2 - 3\n",
    "\n",
    "\n",
    "*Your Explanation:*\n",
    "<br>1. if to all the data we subtract a constant(mean) the resul doesnt change (distance order is preserved)\n",
    "\n",
    "$$\\left\\|(x_{1} - \\mu) - (x_{2} - \\mu) \\right\\| = \\left\\|x_{1} - \\mu - x_{2} + \\mu \\right\\| = \\left\\| x_{1} - x_{2}\\right\\|  $$\n",
    "\n",
    "<br>2. The L1 distance between each test point x_test in X_test and each training point x_train in X_train  after preprocessing does not change:\n",
    "\n",
    "$$ || (x_{1} - \\overrightarrow{\\mu}) - (x_{2} - \\overrightarrow{\\mu}) || = || x_{1} - x_{2} || $$\n",
    "\n",
    "<br>3. The L1 distance between each test point x_test in X_test and each training point x_train in X_train  after processing is multiplied by $\\frac{1}{\\sigma}$:\n",
    "\n",
    "$$ \\Big|\\Big| \\frac{x_{1} - \\mu}{\\sigma} - \\frac{x_{2} - \\mu}{\\sigma} \\Big|\\Big| = \\Big|\\Big| \\frac{x_{1} - x_{2}}{\\sigma} \\Big|\\Big| = \\frac{1}{\\sigma} || x_{1} - x_{2} ||$$\n",
    "\n",
    "<br>4. The formula:\n",
    "\n",
    "$$ || \\tilde{x}_{1} - \\tilde{x}_{2} ||_1 = \\sum_{i=1}^m \\Bigg | \\frac{x_{1}^{(i)} - \\mu^{(i)}}{\\sigma^{(i)}} - \\frac{x_{2}^{(i)} - \\mu^{(i)}}{\\sigma^{(i)}} \\Bigg| = \\sum_{i=1}^m \\Bigg | \\frac{x_{1}^{(i)} - x_{2}^{(i)}}{\\sigma^{(i)}} \\Bigg|$$\n",
    "\n",
    "For example: \n",
    "$$x = (0, 0),\\, y = (1, 3),\\, z = (4, 1),\\, \\sigma = (4, 1)$$\n",
    "\n",
    "$$ ||x - y|| = 4 < 5 = ||x - z|| $$\n",
    "\n",
    "$$ ||\\tilde{x} - \\tilde{y}|| = \\frac{1}{4} + 3 = 3.25 > \\frac{4}{4} + 1 = ||\\tilde{x} - \\tilde{z}|| $$\n",
    "\n",
    "So the performance changes.\n",
    "\n",
    "<br>in L1 after rotation, distance order is not preserved.\n",
    "\n"
   ]
  },
  {
   "cell_type": "markdown",
   "metadata": {},
   "source": [
    "## Question 3\n",
    "\n",
    "Which of the following statements about $k$-Nearest Neighbor ($k$-NN) are true in a classification setting, and for all $k$? Select all that apply.\n",
    "1. The decision boundary (hyperplane between classes in feature space) of the k-NN classifier is linear.\n",
    "2. The training error of a 1-NN will always be lower than that of 5-NN.\n",
    "3. The test error of a 1-NN will always be lower than that of a 5-NN.\n",
    "4. The time needed to classify a test example with the k-NN classifier grows with the size of the training set.\n",
    "5. None of the above.\n",
    "\n",
    "*Your Answer:*\n",
    "\n",
    "\n",
    "*Your Explanation:*\n",
    "*Your Answer:* 2, 4\n",
    "\n",
    "\n",
    "*Your Explanation:* \n",
    "1. The linear k-NN classifier has no hyperplane between classes.\n",
    "2. Because its own nearest neighbor is also its own, a 1-NN's training error is equal to zero.\n",
    "3. The training and testing data are relevant.\n",
    "4. As the training dataset gets bigger, more comparisons are made between a test sample and the entire training dataset. So we would have big time complexity\n",
    "\n",
    "\n"
   ]
  }
 ],
 "metadata": {
  "kernelspec": {
   "display_name": "Python 3.11.0 ('venv': venv)",
   "language": "python",
   "name": "python3"
  },
  "language_info": {
   "codemirror_mode": {
    "name": "ipython",
    "version": 3
   },
   "file_extension": ".py",
   "mimetype": "text/x-python",
   "name": "python",
   "nbconvert_exporter": "python",
   "pygments_lexer": "ipython3",
   "version": "3.11.0"
  },
  "vscode": {
   "interpreter": {
    "hash": "4f23323017c77c9c2a022583f71b3cedc94d4933973a796df7800c9dae8be760"
   }
  }
 },
 "nbformat": 4,
 "nbformat_minor": 4
}
