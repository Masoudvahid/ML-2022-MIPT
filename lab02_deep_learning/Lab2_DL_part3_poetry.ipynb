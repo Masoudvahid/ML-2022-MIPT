{
 "cells": [
  {
   "cell_type": "markdown",
   "metadata": {},
   "source": [
    "## Lab 2"
   ]
  },
  {
   "cell_type": "markdown",
   "metadata": {},
   "source": [
    "### Part 3. Poetry generation\n",
    "\n",
    "Let's try to generate some poetry using RNNs. \n",
    "\n",
    "You have several choices here: \n",
    "\n",
    "* The Shakespeare sonnets, file `sonnets.txt` available in the notebook directory.\n",
    "\n",
    "* Роман в стихах \"Евгений Онегин\" Александра Сергеевича Пушкина. В предобработанном виде доступен по [ссылке](https://github.com/attatrol/data_sources/blob/master/onegin.txt).\n",
    "\n",
    "* Some other text source, if it will be approved by the course staff.\n",
    "\n",
    "Text generation can be designed in several steps:\n",
    "    \n",
    "1. Data loading.\n",
    "2. Dictionary generation.\n",
    "3. Data preprocessing.\n",
    "4. Model (neural network) training.\n",
    "5. Text generation (model evaluation).\n"
   ]
  },
  {
   "cell_type": "code",
   "execution_count": 80,
   "metadata": {},
   "outputs": [
    {
     "name": "stdout",
     "output_type": "stream",
     "text": [
      "cuda:0\n"
     ]
    }
   ],
   "source": [
    "import string\n",
    "import os\n",
    "\n",
    "from matplotlib import pyplot as plt\n",
    "import torch\n",
    "import torch.nn as nn\n",
    "from torch.autograd import Variable\n",
    "import torch.nn.functional as F\n",
    "import numpy as np\n",
    "\n",
    "\n",
    "device = torch.device(\"cuda:0\") if torch.cuda.is_available() else torch.device(\"cpu\")\n",
    "print(device)"
   ]
  },
  {
   "cell_type": "markdown",
   "metadata": {},
   "source": [
    "### Data loading: Shakespeare"
   ]
  },
  {
   "cell_type": "markdown",
   "metadata": {},
   "source": [
    "Shakespeare sonnets are awailable at this [link](http://www.gutenberg.org/ebooks/1041?msg=welcome_stranger). In addition, they are stored in the same directory as this notebook (`sonnetes.txt`). Simple preprocessing is already done for you in the next cell: all technical info is dropped."
   ]
  },
  {
   "cell_type": "code",
   "execution_count": 81,
   "metadata": {
    "collapsed": true
   },
   "outputs": [],
   "source": [
    "if not os.path.exists('sonnets.txt'):\n",
    "    !wget https://raw.githubusercontent.com/girafe-ai/ml-mipt/master/homeworks_basic/Lab2_DL/sonnets.txt\n",
    "\n",
    "with open('sonnets.txt', 'r') as iofile:\n",
    "    text = iofile.readlines()\n",
    "    \n",
    "TEXT_START = 45\n",
    "TEXT_END = -368\n",
    "text = text[TEXT_START : TEXT_END]\n",
    "assert len(text) == 2616"
   ]
  },
  {
   "cell_type": "markdown",
   "metadata": {},
   "source": [
    "In opposite to the in-class practice, this time we want to predict complex text. Let's reduce the complexity of the task and lowercase all the symbols.\n",
    "\n",
    "Now variable `text` is a list of strings. Join all the strings into one and lowercase it."
   ]
  },
  {
   "cell_type": "code",
   "execution_count": 82,
   "metadata": {},
   "outputs": [
    {
     "name": "stdout",
     "output_type": "stream",
     "text": [
      "OK!\n"
     ]
    }
   ],
   "source": [
    "# Join all the strings into one and lowercase it\n",
    "# Put result into variable text.\n",
    "\n",
    "# Your great code here\n",
    "text = ''.join(text).lower()\n",
    "\n",
    "assert len(text) == 100225, 'Are you sure you have concatenated all the strings?'\n",
    "assert not any([x in set(text) for x in string.ascii_uppercase]), 'Uppercase letters are present'\n",
    "print('OK!')"
   ]
  },
  {
   "cell_type": "markdown",
   "metadata": {},
   "source": [
    "### Data loading: \"Евгений Онегин\"\n"
   ]
  },
  {
   "cell_type": "markdown",
   "metadata": {},
   "source": [
    "In opposite to the in-class practice, this time we want to predict complex text. Let's reduce the complexity of the task and lowercase all the symbols.\n",
    "\n",
    "Now variable `text` is a list of strings. Join all the strings into one and lowercase it."
   ]
  },
  {
   "cell_type": "markdown",
   "metadata": {},
   "source": [
    "Put all the characters, that you've seen in the text, into variable `tokens`."
   ]
  },
  {
   "cell_type": "code",
   "execution_count": 83,
   "metadata": {},
   "outputs": [
    {
     "data": {
      "text/plain": [
       "38"
      ]
     },
     "execution_count": 83,
     "metadata": {},
     "output_type": "execute_result"
    }
   ],
   "source": [
    "tokens = sorted(set(text))\n",
    "len(tokens)"
   ]
  },
  {
   "cell_type": "markdown",
   "metadata": {},
   "source": [
    "Create dictionary `token_to_idx = {<char>: <index>}` and dictionary `idx_to_token = {<index>: <char>}`"
   ]
  },
  {
   "cell_type": "code",
   "execution_count": 84,
   "metadata": {
    "collapsed": true
   },
   "outputs": [],
   "source": [
    "# dict <index>:<char>\n",
    "# Your great code here\n",
    "index_token = dict(zip(range(len(tokens)), tokens))\n",
    "\n",
    "# dict <char>:<index>\n",
    "# Your great code here\n",
    "token_index = dict(zip(tokens, range(len(tokens))))"
   ]
  },
  {
   "cell_type": "markdown",
   "metadata": {},
   "source": [
    "*Comment: in this task we have only 38 different tokens, so let's use one-hot encoding.*"
   ]
  },
  {
   "cell_type": "markdown",
   "metadata": {},
   "source": [
    "### Building the model"
   ]
  },
  {
   "cell_type": "markdown",
   "metadata": {},
   "source": [
    "Now we want to build and train recurrent neural net which would be able to something similar to Shakespeare's poetry.\n",
    "\n",
    "Let's use vanilla RNN, similar to the one created during the lesson."
   ]
  },
  {
   "cell_type": "code",
   "execution_count": 85,
   "metadata": {
    "collapsed": true
   },
   "outputs": [],
   "source": [
    "class CharRNNLoop(nn.Module):\n",
    "    def __init__(self, num_tokens, emb_size=38, rnn_num_units=64):\n",
    "        super(self.__class__, self).__init__()\n",
    "        self.num_units = rnn_num_units\n",
    "        self.rnn = nn.RNN(emb_size, rnn_num_units, batch_first=True)\n",
    "        self.lin = nn.Linear(rnn_num_units, num_tokens)\n",
    "\n",
    "    def forward(self, x, hidden):\n",
    "        out, hidden = self.rnn(x, hidden)\n",
    "        out = out.contiguous().view(-1, self.num_units)\n",
    "        out = self.lin(out)\n",
    "        return out, hidden\n",
    "\n",
    "    def initial_state(self, batch_size):\n",
    "        return Variable(torch.zeros(1, batch_size, self.num_units)).to(device)"
   ]
  },
  {
   "cell_type": "code",
   "execution_count": 86,
   "metadata": {},
   "outputs": [],
   "source": [
    "def get_batches(arr, batch_size, seq_length):\n",
    "    batch_size_total = batch_size * seq_length\n",
    "    n_batches = int(len(arr) / batch_size_total)\n",
    "    arr = arr[:n_batches * batch_size_total]\n",
    "    arr = arr.reshape((batch_size, -1))\n",
    "    for n in range(0, arr.shape[1], seq_length):\n",
    "        x = arr[:, n:n+seq_length]\n",
    "        y = np.zeros_like(x)\n",
    "        try:\n",
    "          y[:, :-1], y[:, -1] = x[:, 1:], arr[:, n+seq_length]\n",
    "        except IndexError:\n",
    "            y[:, :-1], y[:, -1] = x[:, 1:], arr[:, 0]\n",
    "        yield x, y # returning generator, cause we have no need to iterate it twice\n"
   ]
  },
  {
   "cell_type": "code",
   "execution_count": 87,
   "metadata": {},
   "outputs": [],
   "source": [
    "\n",
    "def one_hot_encode(arr, n_labels):\n",
    "    one_hot = np.zeros((np.multiply(*arr.shape), n_labels), dtype=np.float32)\n",
    "    one_hot[np.arange(one_hot.shape[0]), arr.flatten()] = 1.\n",
    "    one_hot = one_hot.reshape((*arr.shape, n_labels))\n",
    "    return one_hot"
   ]
  },
  {
   "cell_type": "code",
   "execution_count": 88,
   "metadata": {
    "collapsed": false,
    "pycharm": {
     "name": "#%%\n"
    }
   },
   "outputs": [],
   "source": [
    "\n",
    "\n",
    "def train(net, train_text, val_text, epochs=100, show_epoch=10, batch_size=10,\n",
    "          seq_length=50, lr=0.001, clip=5,\n",
    "          lstm=False):\n",
    "\n",
    "    opt = torch.optim.Adam(net.parameters(), lr=lr)\n",
    "    criterion = nn.CrossEntropyLoss()\n",
    "    train_loss_epoch, val_loss_epoch = list(), list()\n",
    "    n_chars = len(tokens)\n",
    "    for e in range(epochs):\n",
    "        h = net.initial_state(batch_size)\n",
    "        for x, y in get_batches(train_text, batch_size, seq_length):\n",
    "            net.train()\n",
    "            x = one_hot_encode(x, n_chars)\n",
    "            inputs = torch.from_numpy(x).to(device)\n",
    "            targets = torch.from_numpy(y).to(device)\n",
    "            net.zero_grad()\n",
    "            if lstm:\n",
    "                h = tuple([each.data for each in h])\n",
    "            else:\n",
    "                h = h.detach()\n",
    "\n",
    "            output, h = net(inputs, h)\n",
    "            loss = criterion(output, targets.view(batch_size*seq_length).long())\n",
    "            loss.backward()\n",
    "            nn.utils.clip_grad_norm_(net.parameters(), clip)\n",
    "            opt.step()\n",
    "        if e == 0 or (e+1) % show_epoch == 0:\n",
    "            val_h = net.initial_state(batch_size)\n",
    "            val_losses = []\n",
    "            net.eval()\n",
    "            for x, y in get_batches(val_text, batch_size, seq_length):\n",
    "                x = one_hot_encode(x, n_chars)\n",
    "                x, y = torch.from_numpy(x), torch.from_numpy(y)\n",
    "                if lstm:\n",
    "                    val_h = tuple([each.data for each in val_h])\n",
    "                else:\n",
    "                    val_h = val_h.detach()\n",
    "\n",
    "                inputs, targets = x, y\n",
    "                inputs, targets = inputs.to(device), targets.to(device)\n",
    "                output, val_h = net(inputs, val_h)\n",
    "                val_loss = criterion(output, targets.view(batch_size*seq_length).long())\n",
    "                val_losses.append(val_loss.item())\n",
    "                train_loss_epoch.append(loss.item())\n",
    "                val_loss_epoch.append(np.mean(val_losses))\n",
    "                print(f'Epoch {e + 1} of {epochs}: training loss: {train_loss_epoch[-1]:.6f}; validation loss: {val_loss_epoch[-1]:.6f}')\n",
    "        elif lstm:\n",
    "            print(f'Epoch {e + 1} of {epochs}')\n",
    "\n",
    "    return train_loss_epoch, val_loss_epoch"
   ]
  },
  {
   "cell_type": "markdown",
   "metadata": {},
   "source": [
    "Plot the loss function (axis X: number of epochs, axis Y: loss function)."
   ]
  },
  {
   "cell_type": "code",
   "execution_count": 89,
   "metadata": {
    "collapsed": true
   },
   "outputs": [],
   "source": [
    "def plot_train_process(train_loss, val_loss, epoch_gap=1):\n",
    "    fig, axes = plt.subplots(1, 1,figsize=(15,5))\n",
    "    axes.set_title(\"Loss\")\n",
    "    axes.plot(train_loss, label='train')\n",
    "    axes.plot(val_loss, label='test')\n",
    "    axes.grid()\n",
    "    axes.set_xlabel('n epoch * {}'.format(epoch_gap))\n",
    "    axes.legend()\n",
    "    axes.plot()"
   ]
  },
  {
   "cell_type": "code",
   "execution_count": 90,
   "metadata": {},
   "outputs": [],
   "source": [
    "def predict(net, char, h=None, temperature=0.2, lstm=False):\n",
    "        x = np.array([[token_index[char]]])\n",
    "        x = one_hot_encode(x, len(tokens))\n",
    "        inputs = torch.from_numpy(x).to(device)\n",
    "        if lstm:\n",
    "            h = tuple([each.data for each in h])\n",
    "        else:\n",
    "            h = h.detach()\n",
    "\n",
    "        out, h = net(inputs, h)\n",
    "\n",
    "        p = F.softmax(out/temperature, dim=1).data\n",
    "        p = p.cpu().numpy().squeeze()\n",
    "        char = np.random.choice(len(tokens), p=p/p.sum())\n",
    "        return index_token[char], h"
   ]
  },
  {
   "cell_type": "code",
   "execution_count": 91,
   "metadata": {},
   "outputs": [],
   "source": [
    "\n",
    "\n",
    "def generate_sample(char_rnn, seed_phrase=' Hello', max_length=100, temperature=1.0, lstm=False):\n",
    "    char_rnn.to(device)\n",
    "    char_rnn.eval()\n",
    "\n",
    "    chars_generated = [ch for ch in seed_phrase]\n",
    "    h = char_rnn.initial_state(1)\n",
    "    \n",
    "    #feed the seed phrase, if any\n",
    "    for ch in seed_phrase:\n",
    "        char, h = predict(char_rnn, ch, h, temperature, lstm=lstm)\n",
    "    \n",
    "    #start generating\n",
    "    chars_generated.append(char)\n",
    "    while len(chars_generated) < max_length:\n",
    "        char, h = predict(char_rnn, chars_generated[-1], h, temperature, lstm)\n",
    "        chars_generated.append(char)\n",
    "        \n",
    "    return ''.join(chars_generated)"
   ]
  },
  {
   "cell_type": "code",
   "execution_count": 92,
   "metadata": {},
   "outputs": [],
   "source": [
    "encoded = np.array([token_index[ch] for ch in text])\n",
    "split_index = int(len(encoded)*0.9)\n",
    "encoded_text_train, encoded_text_val = encoded[:split_index], encoded[split_index:]"
   ]
  },
  {
   "cell_type": "code",
   "execution_count": 94,
   "metadata": {
    "collapsed": false,
    "pycharm": {
     "name": "#%%\n"
    }
   },
   "outputs": [
    {
     "name": "stdout",
     "output_type": "stream",
     "text": [
      "Epoch 1 of 100: training loss: 3.067672; validation loss: 3.026427\n",
      "Epoch 10 of 100: training loss: 2.609823; validation loss: 2.613243\n",
      "Epoch 20 of 100: training loss: 2.212741; validation loss: 2.251881\n",
      "Epoch 30 of 100: training loss: 2.072690; validation loss: 2.127614\n",
      "Epoch 40 of 100: training loss: 1.994394; validation loss: 2.076776\n",
      "Epoch 50 of 100: training loss: 1.931923; validation loss: 2.034992\n",
      "Epoch 60 of 100: training loss: 1.871995; validation loss: 1.992570\n",
      "Epoch 70 of 100: training loss: 1.816117; validation loss: 1.960583\n",
      "Epoch 80 of 100: training loss: 1.768119; validation loss: 1.930465\n",
      "Epoch 90 of 100: training loss: 1.720121; validation loss: 1.919357\n",
      "Epoch 100 of 100: training loss: 1.684877; validation loss: 1.900968\n"
     ]
    }
   ],
   "source": [
    "# finally, let's train it\n",
    "\n",
    "n_epoch = 100\n",
    "epoch_gap = 10\n",
    "\n",
    "net = CharRNNLoop(len(tokens), rnn_num_units=256,emb_size=38).to(device)\n",
    "train_loss, val_loss = train(net, encoded_text_train, encoded_text_val,\n",
    "                             epochs=n_epoch, show_epoch=epoch_gap,\n",
    "                             batch_size=100, seq_length=100)"
   ]
  },
  {
   "cell_type": "code",
   "execution_count": 95,
   "metadata": {
    "collapsed": false,
    "pycharm": {
     "name": "#%%\n"
    }
   },
   "outputs": [
    {
     "data": {
      "image/png": "[encoded data removed]",
      "text/plain": [
       "<Figure size 1500x500 with 1 Axes>"
      ]
     },
     "metadata": {},
     "output_type": "display_data"
    }
   ],
   "source": [
    "plot_train_process(train_loss, val_loss, epoch_gap)"
   ]
  },
  {
   "cell_type": "code",
   "execution_count": 96,
   "metadata": {
    "collapsed": false,
    "pycharm": {
     "name": "#%%\n"
    }
   },
   "outputs": [
    {
     "name": "stdout",
     "output_type": "stream",
     "text": [
      "love thee the rearte thee the reare,\n",
      "  and the reart the store thee the sealle in the erees my deather thee,\n",
      "  and the routh the sore the serent in thee thee thee thee thee thee the herece,\n",
      "  and the sear the will the searte thou detser'd are thee thee the seare\n",
      "  and then in the seal thou are the with the will the prowe,\n",
      "  and the sear and the sour and beauty stean thee thee the singe\n",
      "  the right i faines of the with the searte thee thee the conder chanke,\n",
      "  and the sore thit the will the storn\n"
     ]
    }
   ],
   "source": [
    "# An example of generated text.\n",
    "print(generate_sample(net, seed_phrase='love ', max_length=500, temperature=0.2))"
   ]
  },
  {
   "cell_type": "markdown",
   "metadata": {},
   "source": [
    "### More poetic model\n",
    "\n",
    "Let's use LSTM instead of vanilla RNN and compare the results."
   ]
  },
  {
   "cell_type": "code",
   "execution_count": 97,
   "metadata": {
    "collapsed": false,
    "pycharm": {
     "name": "#%%\n"
    }
   },
   "outputs": [],
   "source": [
    "class CharLSTMLoop(nn.Module):\n",
    "    def __init__(self, num_tokens, emb_size=38, rnn_num_units=64):\n",
    "        super(self.__class__, self).__init__()\n",
    "        self.num_units = rnn_num_units\n",
    "        self.rnn = nn.LSTM(emb_size, rnn_num_units, batch_first=True, num_layers=2, dropout=0.5)\n",
    "        self.lin = nn.Linear(rnn_num_units, num_tokens)\n",
    "\n",
    "    def forward(self, x, hidden):\n",
    "        out, hidden = self.rnn(x, hidden)\n",
    "        out = out.contiguous().view(-1, self.num_units)\n",
    "        out = self.lin(out)\n",
    "        return out, hidden\n",
    "\n",
    "    def initial_state(self, batch_size):\n",
    "        return (Variable(torch.zeros(2, batch_size, self.num_units)).to(device),\n",
    "                Variable(torch.zeros(2, batch_size, self.num_units)).to(device))"
   ]
  },
  {
   "cell_type": "markdown",
   "metadata": {},
   "source": [
    "Plot the loss function of the number of epochs. Does the final loss become better?"
   ]
  },
  {
   "cell_type": "code",
   "execution_count": 99,
   "metadata": {
    "collapsed": true
   },
   "outputs": [
    {
     "name": "stdout",
     "output_type": "stream",
     "text": [
      "Epoch 1 of 100: training loss: 3.065560; validation loss: 3.064130\n",
      "Epoch 2 of 100\n",
      "Epoch 3 of 100\n",
      "Epoch 4 of 100\n",
      "Epoch 5 of 100\n",
      "Epoch 6 of 100\n",
      "Epoch 7 of 100\n",
      "Epoch 8 of 100\n",
      "Epoch 9 of 100\n",
      "Epoch 10 of 100: training loss: 2.907520; validation loss: 2.906600\n",
      "Epoch 11 of 100\n",
      "Epoch 12 of 100\n",
      "Epoch 13 of 100\n",
      "Epoch 14 of 100\n",
      "Epoch 15 of 100\n",
      "Epoch 16 of 100\n",
      "Epoch 17 of 100\n",
      "Epoch 18 of 100\n",
      "Epoch 19 of 100\n",
      "Epoch 20 of 100: training loss: 2.264558; validation loss: 2.283691\n",
      "Epoch 21 of 100\n",
      "Epoch 22 of 100\n",
      "Epoch 23 of 100\n",
      "Epoch 24 of 100\n",
      "Epoch 25 of 100\n",
      "Epoch 26 of 100\n",
      "Epoch 27 of 100\n",
      "Epoch 28 of 100\n",
      "Epoch 29 of 100\n",
      "Epoch 30 of 100: training loss: 1.957091; validation loss: 2.029875\n",
      "Epoch 31 of 100\n",
      "Epoch 32 of 100\n",
      "Epoch 33 of 100\n",
      "Epoch 34 of 100\n",
      "Epoch 35 of 100\n",
      "Epoch 36 of 100\n",
      "Epoch 37 of 100\n",
      "Epoch 38 of 100\n",
      "Epoch 39 of 100\n",
      "Epoch 40 of 100: training loss: 1.773114; validation loss: 1.878077\n",
      "Epoch 41 of 100\n",
      "Epoch 42 of 100\n",
      "Epoch 43 of 100\n",
      "Epoch 44 of 100\n",
      "Epoch 45 of 100\n",
      "Epoch 46 of 100\n",
      "Epoch 47 of 100\n",
      "Epoch 48 of 100\n",
      "Epoch 49 of 100\n",
      "Epoch 50 of 100: training loss: 1.640600; validation loss: 1.785490\n",
      "Epoch 51 of 100\n",
      "Epoch 52 of 100\n",
      "Epoch 53 of 100\n",
      "Epoch 54 of 100\n",
      "Epoch 55 of 100\n",
      "Epoch 56 of 100\n",
      "Epoch 57 of 100\n",
      "Epoch 58 of 100\n",
      "Epoch 59 of 100\n",
      "Epoch 60 of 100: training loss: 1.538457; validation loss: 1.737924\n",
      "Epoch 61 of 100\n",
      "Epoch 62 of 100\n",
      "Epoch 63 of 100\n",
      "Epoch 64 of 100\n",
      "Epoch 65 of 100\n",
      "Epoch 66 of 100\n",
      "Epoch 67 of 100\n",
      "Epoch 68 of 100\n",
      "Epoch 69 of 100\n",
      "Epoch 70 of 100: training loss: 1.422583; validation loss: 1.701135\n",
      "Epoch 71 of 100\n",
      "Epoch 72 of 100\n",
      "Epoch 73 of 100\n",
      "Epoch 74 of 100\n",
      "Epoch 75 of 100\n",
      "Epoch 76 of 100\n",
      "Epoch 77 of 100\n",
      "Epoch 78 of 100\n",
      "Epoch 79 of 100\n",
      "Epoch 80 of 100: training loss: 1.324826; validation loss: 1.710734\n",
      "Epoch 81 of 100\n",
      "Epoch 82 of 100\n",
      "Epoch 83 of 100\n",
      "Epoch 84 of 100\n",
      "Epoch 85 of 100\n",
      "Epoch 86 of 100\n",
      "Epoch 87 of 100\n",
      "Epoch 88 of 100\n",
      "Epoch 89 of 100\n",
      "Epoch 90 of 100: training loss: 1.212940; validation loss: 1.738053\n",
      "Epoch 91 of 100\n",
      "Epoch 92 of 100\n",
      "Epoch 93 of 100\n",
      "Epoch 94 of 100\n",
      "Epoch 95 of 100\n",
      "Epoch 96 of 100\n",
      "Epoch 97 of 100\n",
      "Epoch 98 of 100\n",
      "Epoch 99 of 100\n",
      "Epoch 100 of 100: training loss: 1.093006; validation loss: 1.789572\n"
     ]
    }
   ],
   "source": [
    "# Your beautiful code here\n",
    "\n",
    "n_epoch = 100\n",
    "epoch_gap = 10\n",
    "\n",
    "net = CharLSTMLoop(len(tokens), rnn_num_units=512, emb_size=38).to(device)\n",
    "train_loss, val_loss = train(net, encoded_text_train, encoded_text_val,\n",
    "                             epochs=n_epoch, show_epoch=epoch_gap,\n",
    "                             batch_size=100, seq_length=100, lstm=True)"
   ]
  },
  {
   "cell_type": "code",
   "execution_count": 101,
   "metadata": {
    "collapsed": false,
    "pycharm": {
     "name": "#%%\n"
    }
   },
   "outputs": [
    {
     "data": {
      "image/png": "[encoded data removed]",
      "text/plain": [
       "<Figure size 1500x500 with 1 Axes>"
      ]
     },
     "metadata": {},
     "output_type": "display_data"
    }
   ],
   "source": [
    "plot_train_process(train_loss, val_loss, epoch_gap)"
   ]
  },
  {
   "cell_type": "code",
   "execution_count": 104,
   "metadata": {
    "collapsed": false,
    "pycharm": {
     "name": "#%%\n"
    }
   },
   "outputs": [
    {
     "name": "stdout",
     "output_type": "stream",
     "text": [
      "programing the farther than she disgrace:\n",
      "  she hath the world with meauteous love some,\n",
      "  to shade thee think of the prease, where thou art song,\n",
      "    that the world not self the themp in one,\n",
      "  that sin thee the world with all the world's pride,\n",
      "  and steel the thenk in the subser tould,\n",
      "  that i have speese of such a comperse\n",
      "  which show heaven the restor thee thee grow,\n",
      "  they with the trifious make my love and strong,\n",
      "  that thou art self the strong of the preemented.\n",
      "  then the strange of \n"
     ]
    }
   ],
   "source": [
    "# An example of generated text.\n",
    "print(generate_sample(net, seed_phrase='programing ', max_length=500, temperature=0.2, lstm=True))"
   ]
  },
  {
   "cell_type": "markdown",
   "metadata": {},
   "source": [
    "Generate text using the trained net with different `temperature` parameter: `[0.1, 0.2, 0.5, 1.0, 2.0]`.\n",
    "\n",
    "Evaluate the results visually, try to interpret them."
   ]
  },
  {
   "cell_type": "code",
   "execution_count": 108,
   "metadata": {
    "collapsed": true
   },
   "outputs": [],
   "source": [
    "# Text generation with different temperature values here\n"
   ]
  },
  {
   "cell_type": "markdown",
   "metadata": {},
   "source": [
    "### Saving and loading models"
   ]
  },
  {
   "cell_type": "markdown",
   "metadata": {},
   "source": [
    "Save the model to the disk, then load it and generate text. Examples are available [here](https://pytorch.org/tutorials/beginner/saving_loading_models.html])."
   ]
  },
  {
   "cell_type": "code",
   "execution_count": 116,
   "metadata": {
    "collapsed": true
   },
   "outputs": [
    {
     "name": "stdout",
     "output_type": "stream",
     "text": [
      "queen of island seems to blast inventhes, knowes theer his pace,\n",
      "    that by thy sweet beauty she incemments.\n",
      "  then you heaven's te thy munuses beauty's inight,\n",
      "  my jafe uasmen frow one ate this lears,\n",
      "  thy ligk of leave, that love thie sich'd,\n",
      "    of thee, myself exsul'd, and siger be,\n",
      "  for all thee,-- hath my shaters as vane,\n",
      "  of beauty should the sight and given spirit?\n",
      "\n",
      "  co\n",
      "  sithind wolthouling that unterth of my sowe,\n",
      "  leise't thy ell bus with give of eyes have now hath:\n",
      "  for me th\n"
     ]
    }
   ],
   "source": [
    "# Saving and loading code here\n",
    "\n",
    "torch.save(net.state_dict(), './model.pt')\n",
    "loaded_model = CharLSTMLoop(len(tokens), rnn_num_units=512, emb_size=38).to(device)\n",
    "loaded_model.load_state_dict(torch.load('./model.pt'))\n",
    "loaded_model.eval()\n",
    "print(generate_sample(loaded_model, max_length=500, lstm=True, seed_phrase='queen of island '))"
   ]
  },
  {
   "attachments": {},
   "cell_type": "markdown",
   "metadata": {
    "collapsed": false,
    "pycharm": {
     "name": "#%% md\n"
    }
   },
   "source": [
    "### References\n",
    "1. <a href='http://karpathy.github.io/2015/05/21/rnn-effectiveness/'> Andrew Karpathy blog post about RNN. </a> \n",
    "There are several examples of genration: Shakespeare texts, Latex formulas, Linux Sourse Code and children names.\n",
    "2. <a href='https://github.com/karpathy/char-rnn'> Repo with char-rnn code </a>\n",
    "3. Cool repo with PyTorch examples: [link](https://github.com/spro/practical-pytorch`)"
   ]
  }
 ],
 "metadata": {
  "anaconda-cloud": {},
  "kernelspec": {
   "display_name": ".venv",
   "language": "python",
   "name": "python3"
  },
  "language_info": {
   "codemirror_mode": {
    "name": "ipython",
    "version": 3
   },
   "file_extension": ".py",
   "mimetype": "text/x-python",
   "name": "python",
   "nbconvert_exporter": "python",
   "pygments_lexer": "ipython3",
   "version": "3.7.9"
  },
  "vscode": {
   "interpreter": {
    "hash": "be06effd21f8235b5f3d70ad90d23cbe70dff195eccf76804602762c5aff783b"
   }
  }
 },
 "nbformat": 4,
 "nbformat_minor": 2
}
